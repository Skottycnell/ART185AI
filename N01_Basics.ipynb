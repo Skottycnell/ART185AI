{
 "cells": [
  {
   "cell_type": "markdown",
   "metadata": {},
   "source": [
    "# Basic Concepts I"
   ]
  },
  {
   "cell_type": "markdown",
   "metadata": {},
   "source": [
    "## Copyright notice\n",
    "\n",
    "This version (c) 2019 Fabian Offert, [MIT License](LICENSE)."
   ]
  },
  {
   "cell_type": "markdown",
   "metadata": {},
   "source": [
    "## Learn more\n",
    "\n",
    "- Official Python tutorial: https://docs.python.org/3/tutorial/index.html\n",
    "- Python docs: https://docs.python.org/3\n",
    "- Forum offering high-quality answers to every programming question imaginable: https://stackoverflow.com"
   ]
  },
  {
   "cell_type": "markdown",
   "metadata": {},
   "source": [
    "## Introduction\n",
    "\n",
    "From the official Python docs:\n",
    "\n",
    "> Python is an easy to learn, powerful programming language. It has efficient high-level data structures and a simple but effective approach to object-oriented programming. Python’s elegant syntax and dynamic typing, together with its interpreted nature, make it an ideal language for scripting and rapid application development in many areas on most platforms.\n",
    "\n",
    "These are the reasons why we and many machine learning researchers have chosen Python for machine learning.\n",
    "\n",
    "We will very loosely follow the official Python 3.7 tutorial which is available [here](https://docs.python.org/3/tutorial/index.html). This document, however, will only contain/link to the parts of the language that we explicitly discuss in class.\n",
    "\n",
    "Python is a well-documented language. Everything you need to know about the core language is in the official [docs](https://docs.python.org/3), and everything you need to know about the few libraries we will actively use can be found in their respective docs."
   ]
  },
  {
   "cell_type": "markdown",
   "metadata": {},
   "source": [
    "## Using Anaconda/Jupyter/Git with the lab repository\n",
    "\n",
    "Tor run Jupyter in a folder of your choice (values you have to replace with the names of your folder/environment etc. are in all caps):\n",
    "\n",
    "```\n",
    "cd FOLDER\n",
    "source activate ENVIRONMENT\n",
    "jupyter notebook\n",
    "```\n",
    "\n",
    "To quit the Juypter server, press `ctrl+c`, to deactivate the environment run `source deactivate` (on Windows, replace `source`with `conda`).\n",
    "\n",
    "To pull code from the [class repository](https://github.com/zentralwerkstatt/ART185AI), change to the local repository folder (`ART185AI`) and run `git pull`. Note: if git opens Vim, close it with `shift+z,z`.\n",
    "\n",
    "To push your work to the [lab repository](https://github.com/zentralwerkstatt/ART185AI-lab), change to the local repository folder (`ART185AI-lab`), then commit your changes and push:\n",
    "\n",
    "```\n",
    "git add -u\n",
    "git commit -m \"Your commit message\"\n",
    "git push origin master\n",
    "```\n",
    "\n",
    "If your copy of the repository is not in sync with the remote branch, run `git pull` first."
   ]
  },
  {
   "cell_type": "markdown",
   "metadata": {},
   "source": [
    "## Comments\n",
    "\n",
    "A comment will not be executed, even if it contains executable code."
   ]
  },
  {
   "cell_type": "code",
   "execution_count": 2,
   "metadata": {},
   "outputs": [],
   "source": [
    "# This is a comment. It starts with a hash sign."
   ]
  },
  {
   "cell_type": "markdown",
   "metadata": {},
   "source": [
    "## Imports\n",
    "\n",
    "Python is a modular language. This means most of the useful extensions of the language will come as libraries that you will need to install and import. Fortunately, as we are using the Anaconda distribution and are working inside an environment, this is easy. Simply install the respective package in your environment and then run `import package`. For packages that are used really frequently in the code, you can also change the name to something shorter with the `as` keyword, for instance: `import torchvision as tv`. You can also import only parts of a package with the `from` keyword."
   ]
  },
  {
   "cell_type": "code",
   "execution_count": 3,
   "metadata": {},
   "outputs": [],
   "source": [
    "import numpy as np"
   ]
  },
  {
   "cell_type": "markdown",
   "metadata": {},
   "source": [
    "## Simple data types\n",
    "\n",
    "While the technical reality is a bit more complicated, we can regard variables as *signs that holds values*. In Python, we can assign a value to a sign with the equality operator: `a = 1`. Variables can hold many different kinds of values, integers (`a = 1`), floating point numbers (`a = 1.5`), words (`a = 'foo'`), truth values (`True`or `False`) vectors, matrices, or even complicated structures made up of many different kinds of values. Python also offers built-in support for more complex data types, for instance (literally) complex numbers (a = 3+2j`) or very large/small numbers in scientific notation (a = 2e-10`). However, Python is a [weakly-typed](https://en.wikipedia.org/wiki/Type_system) language. In practice, this means that we do not have to tell the interpreter what kind of value we are assigning to a sign, it will infer this for us.\n",
    "\n",
    "There are many different way to \"look into\" a variable, i.e. see what value it is holding at a certain point in the execution of the program. A very easy way is to just print its value to the console/notebook. In Python, we use the `print` function for this purpose: `print(a)`."
   ]
  },
  {
   "cell_type": "code",
   "execution_count": 6,
   "metadata": {},
   "outputs": [
    {
     "name": "stdout",
     "output_type": "stream",
     "text": [
      "1 1.0 One (1+2j) 2e-10 True\n"
     ]
    }
   ],
   "source": [
    "a = 1 # Int\n",
    "b = 1.0 # Float\n",
    "c = 'One' # String\n",
    "d = 1+2j # Complex number\n",
    "e = 2e-10 # Scientific notation for very large/small values\n",
    "f = True # Boolean\n",
    "print(a, b, c, d, e, f)"
   ]
  },
  {
   "cell_type": "markdown",
   "metadata": {},
   "source": [
    "As variables can hold values, we can use them algebraically, almost exactly like we would without a computer. For instance, we could calculate the sum of `a=4`and `b=2` by assigning it to `c`: `c=a+b`. `print`ing `c` will give us the result: `6`. Many other algebraic operations are possible."
   ]
  },
  {
   "cell_type": "code",
   "execution_count": 73,
   "metadata": {},
   "outputs": [
    {
     "name": "stdout",
     "output_type": "stream",
     "text": [
      "6\n",
      "2\n",
      "8\n",
      "16\n",
      "2.0\n",
      "2\n",
      "0\n"
     ]
    }
   ],
   "source": [
    "a = 4\n",
    "b = 2\n",
    "\n",
    "print(a + b)\n",
    "print(a - b)\n",
    "print(a*b) # Multiplication\n",
    "print(a**b) # Power\n",
    "print(a/b) # Division always returns a floating point number\n",
    "print(a//b) # Floor division\n",
    "print(a%b) # Modulo (remainder)"
   ]
  },
  {
   "cell_type": "markdown",
   "metadata": {},
   "source": [
    "## Truth values\n",
    "\n",
    "We can also obtain truth values from algebraic statements using variables. For instance, to check for equality, we use the `==`operator:"
   ]
  },
  {
   "cell_type": "code",
   "execution_count": 74,
   "metadata": {},
   "outputs": [
    {
     "name": "stdout",
     "output_type": "stream",
     "text": [
      "False\n",
      "True\n",
      "False\n",
      "True\n",
      "False\n"
     ]
    }
   ],
   "source": [
    "print(a == b)\n",
    "print(a > b)\n",
    "print(a < b)\n",
    "print(a >= b)\n",
    "print(a <= b)"
   ]
  },
  {
   "cell_type": "markdown",
   "metadata": {},
   "source": [
    "## Exercises (15')\n",
    "\n",
    "1. Solve the following calculation with variables and print the result: $5^2 \\times (\\frac{5}{3} + 5)$\n",
    "2. Assign the result to a new variable and test if it is smaller than 200 *and* larger than 100\n",
    "3. Test if it is divisible by 3 (the result should be a truth value)."
   ]
  }
 ],
 "metadata": {
  "kernelspec": {
   "display_name": "Python 3",
   "language": "python",
   "name": "python3"
  },
  "language_info": {
   "codemirror_mode": {
    "name": "ipython",
    "version": 3
   },
   "file_extension": ".py",
   "mimetype": "text/x-python",
   "name": "python",
   "nbconvert_exporter": "python",
   "pygments_lexer": "ipython3",
   "version": "3.7.2"
  }
 },
 "nbformat": 4,
 "nbformat_minor": 2
}
