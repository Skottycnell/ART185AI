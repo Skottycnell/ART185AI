{
 "cells": [
  {
   "cell_type": "markdown",
   "metadata": {},
   "source": [
    "# Python for Machine Learning 1"
   ]
  },
  {
   "cell_type": "markdown",
   "metadata": {},
   "source": [
    "## Simple data types"
   ]
  },
  {
   "cell_type": "code",
   "execution_count": 71,
   "metadata": {},
   "outputs": [],
   "source": [
    "a = 1 # Int\n",
    "b = 1.0 # Float\n",
    "c = 'One' # String\n",
    "d = 1+2j # Complex number\n",
    "e = 2e-10 # Scientific notation for very large/small values\n",
    "f = True # Boolean"
   ]
  },
  {
   "cell_type": "code",
   "execution_count": 73,
   "metadata": {},
   "outputs": [
    {
     "name": "stdout",
     "output_type": "stream",
     "text": [
      "6\n",
      "2\n",
      "8\n",
      "16\n",
      "2.0\n",
      "2\n",
      "0\n"
     ]
    }
   ],
   "source": [
    "a = 4\n",
    "b = 2\n",
    "\n",
    "print(a + b)\n",
    "print(a - b)\n",
    "print(a*b) # Multiplication\n",
    "print(a**b) # Power\n",
    "print(a/b) # Division always returns a floating point number\n",
    "print(a//b) # Floor division\n",
    "print(a%b) # Modulo (remainder)"
   ]
  },
  {
   "cell_type": "markdown",
   "metadata": {},
   "source": [
    "## Truth values"
   ]
  },
  {
   "cell_type": "code",
   "execution_count": 74,
   "metadata": {},
   "outputs": [
    {
     "name": "stdout",
     "output_type": "stream",
     "text": [
      "False\n",
      "True\n",
      "False\n",
      "True\n",
      "False\n"
     ]
    }
   ],
   "source": [
    "print(a == b)\n",
    "print(a > b)\n",
    "print(a < b)\n",
    "print(a >= b)\n",
    "print(a <= b)"
   ]
  },
  {
   "cell_type": "markdown",
   "metadata": {},
   "source": [
    "## Exercises (15')\n",
    "\n",
    "1. Solve the following calculation with variables and print the result: $5^2 \\times (\\frac{5}{3} + 5)$\n",
    "2. Assign the result to a new variable and test if it is smaller than 200 *and* larger than 100\n",
    "3. Test if it is divisible by 3 (the result should be a truth value)."
   ]
  }
 ],
 "metadata": {
  "kernelspec": {
   "display_name": "Python 3",
   "language": "python",
   "name": "python3"
  },
  "language_info": {
   "codemirror_mode": {
    "name": "ipython",
    "version": 3
   },
   "file_extension": ".py",
   "mimetype": "text/x-python",
   "name": "python",
   "nbconvert_exporter": "python",
   "pygments_lexer": "ipython3",
   "version": "3.7.2"
  }
 },
 "nbformat": 4,
 "nbformat_minor": 2
}
