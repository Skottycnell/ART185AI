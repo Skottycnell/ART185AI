{
 "cells": [
  {
   "cell_type": "markdown",
   "metadata": {},
   "source": [
    "# Python for Machine Learning 2: Basics"
   ]
  },
  {
   "cell_type": "markdown",
   "metadata": {},
   "source": [
    "## Lists"
   ]
  },
  {
   "cell_type": "code",
   "execution_count": 47,
   "metadata": {
    "scrolled": true
   },
   "outputs": [
    {
     "name": "stdout",
     "output_type": "stream",
     "text": [
      "[1, 2, 3, 4, 5]\n",
      "['foo', 'bar', 'baz']\n"
     ]
    }
   ],
   "source": [
    "int_list = [1, 2, 3, 4, 5]\n",
    "string_list = ['foo', 'bar', 'baz']\n",
    "print(int_list)\n",
    "print(string_list)"
   ]
  },
  {
   "cell_type": "code",
   "execution_count": 48,
   "metadata": {},
   "outputs": [
    {
     "name": "stdout",
     "output_type": "stream",
     "text": [
      "[1, 2]\n",
      "[3, 4, 5]\n",
      "4\n",
      "[100, 2, 3, 4, 5]\n",
      "[100, 2, 4, 5]\n",
      "7\n",
      "[3, 4]\n",
      "[100, 2, 3, 4, 5, 6]\n"
     ]
    }
   ],
   "source": [
    "print(int_list[:2])\n",
    "print(int_list[2:])\n",
    "print(int_list[-2])\n",
    "\n",
    "int_list[0] = 100\n",
    "print(int_list)\n",
    "\n",
    "new_int_list = int_list[:2] + int_list[-2:]\n",
    "print(new_int_list)\n",
    "\n",
    "# But, be careful:\n",
    "\n",
    "print(int_list[2] + int_list[-2])\n",
    "\n",
    "# Instead:\n",
    "\n",
    "print([int_list[2]] + [int_list[-2]])\n",
    "\n",
    "# Or:\n",
    "\n",
    "int_list.append(6)\n",
    "print(int_list)"
   ]
  },
  {
   "cell_type": "markdown",
   "metadata": {},
   "source": [
    "## Flow Control"
   ]
  },
  {
   "cell_type": "code",
   "execution_count": 51,
   "metadata": {},
   "outputs": [
    {
     "name": "stdout",
     "output_type": "stream",
     "text": [
      "A is zero\n"
     ]
    }
   ],
   "source": [
    "a = 0\n",
    "if (a == 0): \n",
    "    print('A is zero')\n",
    "elif (a == 1):\n",
    "    print('A is one')\n",
    "else:\n",
    "    print('A is neither zero nor one')"
   ]
  },
  {
   "cell_type": "code",
   "execution_count": 52,
   "metadata": {},
   "outputs": [
    {
     "name": "stdout",
     "output_type": "stream",
     "text": [
      "[0, 1, 2, 3, 4, 5, 6, 7, 8, 9]\n"
     ]
    }
   ],
   "source": [
    "print(list(range(10)))"
   ]
  },
  {
   "cell_type": "code",
   "execution_count": 53,
   "metadata": {},
   "outputs": [
    {
     "name": "stdout",
     "output_type": "stream",
     "text": [
      "0\n",
      "1\n",
      "2\n",
      "3\n",
      "4\n",
      "5\n",
      "6\n",
      "7\n",
      "8\n",
      "9\n",
      "10\n",
      "11\n",
      "12\n",
      "13\n",
      "14\n"
     ]
    }
   ],
   "source": [
    "for x in range(15):\n",
    "    print(x)"
   ]
  },
  {
   "cell_type": "code",
   "execution_count": 54,
   "metadata": {},
   "outputs": [
    {
     "name": "stdout",
     "output_type": "stream",
     "text": [
      "0\n",
      "2\n",
      "4\n",
      "6\n",
      "8\n"
     ]
    }
   ],
   "source": [
    "for x in range(0, 10, 2):\n",
    "    print(x)"
   ]
  },
  {
   "cell_type": "code",
   "execution_count": 55,
   "metadata": {},
   "outputs": [
    {
     "name": "stdout",
     "output_type": "stream",
     "text": [
      "0 foo\n",
      "1 bar\n",
      "2 baz\n"
     ]
    }
   ],
   "source": [
    "for index, value in enumerate(string_list):\n",
    "    print(index, value)"
   ]
  },
  {
   "cell_type": "markdown",
   "metadata": {},
   "source": [
    "## Exercises (20')\n",
    "\n",
    "1. Create a list containing the first 100 integers with the help of a `for` loop.\n",
    "2. Create two lists of randomly selected integers of the same size. Add the two lists and save the result in a third list with the help of a `for` loop (hint: `x = []` or `x = list()` creates an empty list).\n",
    "3. Iterate over this list and print all even numbers (hint: a number is even if it is divisible by 2). Advanced: in one line using list comprehension (no Google)."
   ]
  },
  {
   "cell_type": "markdown",
   "metadata": {},
   "source": [
    "## Functions"
   ]
  },
  {
   "cell_type": "code",
   "execution_count": 62,
   "metadata": {},
   "outputs": [
    {
     "data": {
      "text/plain": [
       "3"
      ]
     },
     "execution_count": 62,
     "metadata": {},
     "output_type": "execute_result"
    }
   ],
   "source": [
    "def add(a, b):\n",
    "    result = a+b\n",
    "    return result\n",
    "add(1, 2)"
   ]
  },
  {
   "cell_type": "code",
   "execution_count": 63,
   "metadata": {},
   "outputs": [
    {
     "name": "stdout",
     "output_type": "stream",
     "text": [
      "Inside function 100\n",
      "Outside function 0\n"
     ]
    }
   ],
   "source": [
    "# Variable scopes are important!\n",
    "\n",
    "c = 0\n",
    "def add(a, b):\n",
    "    c = 100\n",
    "    print('Inside function', c)\n",
    "    return a + b\n",
    "add(1, 2) # Note that this is just called and does not print anything!\n",
    "print('Outside function', c)"
   ]
  },
  {
   "cell_type": "code",
   "execution_count": 13,
   "metadata": {},
   "outputs": [
    {
     "name": "stdout",
     "output_type": "stream",
     "text": [
      "3\n",
      "101\n"
     ]
    }
   ],
   "source": [
    "# Arguments can have default values\n",
    "\n",
    "def add(a, b=100):\n",
    "    return a + b\n",
    "print(add(1, 2))\n",
    "print(add(1))"
   ]
  },
  {
   "cell_type": "code",
   "execution_count": 65,
   "metadata": {},
   "outputs": [
    {
     "name": "stdout",
     "output_type": "stream",
     "text": [
      "3\n",
      "-1\n",
      "1 2\n",
      "None\n"
     ]
    }
   ],
   "source": [
    "# Arguments can be anything!\n",
    "\n",
    "def add(a, b):\n",
    "    return a + b\n",
    "\n",
    "def subtract(a, b): # We can re-use arguments in a new scope\n",
    "    return a - b\n",
    "\n",
    "def arbitrary(f, a, b):\n",
    "    return f(a, b)\n",
    "\n",
    "print(arbitrary(add, 1, 2))\n",
    "print(arbitrary(subtract, 1, 2))\n",
    "print(arbitrary(print, 1, 2))"
   ]
  },
  {
   "cell_type": "markdown",
   "metadata": {},
   "source": [
    "## Exercises (20')\n",
    "\n",
    "1. Write a function that calculates the factorial of an integer ($\\displaystyle 5! = \\prod^{5}_{i=1} = 5 \\times 4 \\times 3 \\times 2 \\times 1$). Advanced: using recursion.\n",
    "3. Write a function that checks how many even numbers a list contains. Advanced: in one line using list comprehension (no Google!) "
   ]
  }
 ],
 "metadata": {
  "kernelspec": {
   "display_name": "Python 3",
   "language": "python",
   "name": "python3"
  },
  "language_info": {
   "codemirror_mode": {
    "name": "ipython",
    "version": 3
   },
   "file_extension": ".py",
   "mimetype": "text/x-python",
   "name": "python",
   "nbconvert_exporter": "python",
   "pygments_lexer": "ipython3",
   "version": "3.7.2"
  }
 },
 "nbformat": 4,
 "nbformat_minor": 2
}
