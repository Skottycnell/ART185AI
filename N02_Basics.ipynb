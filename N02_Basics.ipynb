{
 "cells": [
  {
   "cell_type": "markdown",
   "metadata": {},
   "source": [
    "# Python for Machine Learning 2"
   ]
  },
  {
   "cell_type": "markdown",
   "metadata": {},
   "source": [
    "## Lists"
   ]
  },
  {
   "cell_type": "code",
   "execution_count": 75,
   "metadata": {
    "scrolled": true
   },
   "outputs": [
    {
     "name": "stdout",
     "output_type": "stream",
     "text": [
      "[1, 2]\n",
      "[3, 4, 5]\n",
      "4\n",
      "[100, 2, 3, 4, 5]\n",
      "[100, 2, 4, 5]\n",
      "7\n",
      "[3, 4]\n",
      "[100, 2, 3, 4, 5, 6]\n"
     ]
    }
   ],
   "source": [
    "int_list = [1, 2, 3, 4, 5]\n",
    "string_list = ['foo', 'bar', 'baz']\n",
    "\n",
    "print(int_list[:2])\n",
    "print(int_list[2:])\n",
    "print(int_list[-2])\n",
    "\n",
    "int_list[0] = 100\n",
    "print(int_list)\n",
    "\n",
    "new_int_list = int_list[:2] + int_list[-2:]\n",
    "print(new_int_list)\n",
    "\n",
    "# But, be careful:\n",
    "\n",
    "print(int_list[2] + int_list[-2])\n",
    "\n",
    "# Instead:\n",
    "\n",
    "print([int_list[2]] + [int_list[-2]])\n",
    "\n",
    "# Or:\n",
    "\n",
    "int_list.append(6)\n",
    "print(int_list)"
   ]
  },
  {
   "cell_type": "markdown",
   "metadata": {},
   "source": [
    "## Flow Control"
   ]
  },
  {
   "cell_type": "code",
   "execution_count": 76,
   "metadata": {},
   "outputs": [
    {
     "name": "stdout",
     "output_type": "stream",
     "text": [
      "A is zero\n"
     ]
    }
   ],
   "source": [
    "a = 0\n",
    "if (a == 0): \n",
    "    print('A is zero')\n",
    "else:\n",
    "    print('A is not zero')"
   ]
  },
  {
   "cell_type": "code",
   "execution_count": 77,
   "metadata": {},
   "outputs": [
    {
     "name": "stdout",
     "output_type": "stream",
     "text": [
      "100\n",
      "2\n",
      "3\n",
      "4\n",
      "5\n",
      "6\n"
     ]
    }
   ],
   "source": [
    "for x in int_list:\n",
    "    print(x)"
   ]
  },
  {
   "cell_type": "code",
   "execution_count": 78,
   "metadata": {},
   "outputs": [
    {
     "name": "stdout",
     "output_type": "stream",
     "text": [
      "0\n",
      "1\n",
      "2\n",
      "3\n",
      "4\n",
      "5\n",
      "6\n",
      "7\n",
      "8\n",
      "9\n"
     ]
    }
   ],
   "source": [
    "for x in range(10):\n",
    "    print(x)"
   ]
  },
  {
   "cell_type": "code",
   "execution_count": 79,
   "metadata": {},
   "outputs": [
    {
     "name": "stdout",
     "output_type": "stream",
     "text": [
      "-20\n",
      "-17\n",
      "-14\n",
      "-11\n"
     ]
    }
   ],
   "source": [
    "for x in range(-20, -10, 3):\n",
    "    print(x)"
   ]
  },
  {
   "cell_type": "code",
   "execution_count": 80,
   "metadata": {},
   "outputs": [
    {
     "name": "stdout",
     "output_type": "stream",
     "text": [
      "0 foo\n",
      "1 bar\n",
      "2 baz\n"
     ]
    }
   ],
   "source": [
    "for index, value in enumerate(string_list):\n",
    "    print(index, value)"
   ]
  },
  {
   "cell_type": "code",
   "execution_count": 81,
   "metadata": {},
   "outputs": [
    {
     "name": "stdout",
     "output_type": "stream",
     "text": [
      "0\n",
      "1\n",
      "2\n",
      "3\n",
      "4\n",
      "5\n",
      "6\n",
      "7\n",
      "8\n",
      "9\n",
      "10\n"
     ]
    }
   ],
   "source": [
    "a = 0\n",
    "while a <= 10:\n",
    "    print(a)\n",
    "    a += 1"
   ]
  },
  {
   "cell_type": "markdown",
   "metadata": {},
   "source": [
    "## Exercises (20')\n",
    "\n",
    "1. Create a list containing the first 100 integers with the help of a `for` loop.\n",
    "2. Create two lists of randomly selected integers of the same size. Add the two lists and save the result in a third list with the help of a `for` loop (hint: `x = []` or `x = list()` creates an empty list).\n",
    "3. Iterate over this list and print all even numbers (hint: a number is even if it is divisible by 2).\n",
    "4. Advanced: 1 and 3, but in one line using list comprehension (no Google!)"
   ]
  },
  {
   "cell_type": "markdown",
   "metadata": {},
   "source": [
    "## Functions"
   ]
  },
  {
   "cell_type": "code",
   "execution_count": 2,
   "metadata": {},
   "outputs": [
    {
     "data": {
      "text/plain": [
       "3"
      ]
     },
     "execution_count": 2,
     "metadata": {},
     "output_type": "execute_result"
    }
   ],
   "source": [
    "def add(a, b):\n",
    "    return a+b\n",
    "add(1, 2)"
   ]
  },
  {
   "cell_type": "code",
   "execution_count": 18,
   "metadata": {},
   "outputs": [
    {
     "name": "stdout",
     "output_type": "stream",
     "text": [
      "Inside function 100\n",
      "Outside function 0\n"
     ]
    }
   ],
   "source": [
    "# Variable scopes are important!\n",
    "\n",
    "c = 0\n",
    "def add(a, b):\n",
    "    c = 100\n",
    "    print('Inside function', c)\n",
    "    return a + b\n",
    "add(1, 2) # Note that this is just called and does not print anything!\n",
    "print('Outside function', c)"
   ]
  },
  {
   "cell_type": "code",
   "execution_count": 13,
   "metadata": {},
   "outputs": [
    {
     "name": "stdout",
     "output_type": "stream",
     "text": [
      "3\n",
      "101\n"
     ]
    }
   ],
   "source": [
    "# Arguments can have default values\n",
    "\n",
    "def add(a, b=100):\n",
    "    return a + b\n",
    "print(add(1, 2))\n",
    "print(add(1))"
   ]
  },
  {
   "cell_type": "code",
   "execution_count": 20,
   "metadata": {},
   "outputs": [
    {
     "name": "stdout",
     "output_type": "stream",
     "text": [
      "3\n",
      "-1\n"
     ]
    }
   ],
   "source": [
    "# Arguments can be anything!\n",
    "\n",
    "def add(a, b):\n",
    "    return a + b\n",
    "\n",
    "def subtract(a, b): # We can re-use arguments in a new scope\n",
    "    return a - b\n",
    "\n",
    "def arbitrary(f, a, b):\n",
    "    return f(a, b)\n",
    "\n",
    "print(arbitrary(add, 1, 2))\n",
    "print(arbitrary(subtract, 1, 2))"
   ]
  },
  {
   "cell_type": "markdown",
   "metadata": {},
   "source": [
    "## Exercises (30')\n",
    "\n",
    "1. Write a function that calculates the factorial of an integer ($\\displaystyle 5! = \\prod^{5}_{i=1} = 5 \\times 4 \\times 3 \\times 2 \\times 1$)\n",
    "2. Write a function that checks if a function is a factorial function. You will need to `import` the `math` library for this and use its `factorial()` function.\n",
    "3. Write a function that checks how many even numbers a list contains.\n",
    "4. Advanced: 3, but in one line using list comprehension (no Google!) "
   ]
  }
 ],
 "metadata": {
  "kernelspec": {
   "display_name": "Python 3",
   "language": "python",
   "name": "python3"
  },
  "language_info": {
   "codemirror_mode": {
    "name": "ipython",
    "version": 3
   },
   "file_extension": ".py",
   "mimetype": "text/x-python",
   "name": "python",
   "nbconvert_exporter": "python",
   "pygments_lexer": "ipython3",
   "version": "3.7.2"
  }
 },
 "nbformat": 4,
 "nbformat_minor": 2
}
