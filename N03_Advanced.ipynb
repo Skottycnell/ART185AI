{
 "cells": [
  {
   "cell_type": "markdown",
   "metadata": {},
   "source": [
    "# Python for Machine Learning 3: Advanced Concepts"
   ]
  },
  {
   "cell_type": "markdown",
   "metadata": {},
   "source": [
    "## Dictionaries"
   ]
  },
  {
   "cell_type": "code",
   "execution_count": 30,
   "metadata": {},
   "outputs": [],
   "source": [
    "empty_dict = {}\n",
    "fruit = {'apples':1, 'bananas': 2}"
   ]
  },
  {
   "cell_type": "code",
   "execution_count": 32,
   "metadata": {},
   "outputs": [
    {
     "name": "stdout",
     "output_type": "stream",
     "text": [
      "1\n"
     ]
    }
   ],
   "source": [
    "number_of_apples = fruit['apples']\n",
    "print(number_of_apples)"
   ]
  },
  {
   "cell_type": "code",
   "execution_count": 33,
   "metadata": {},
   "outputs": [
    {
     "name": "stdout",
     "output_type": "stream",
     "text": [
      "apples 1\n",
      "bananas 2\n"
     ]
    }
   ],
   "source": [
    "for k, v in fruit.items():\n",
    "    print(k, v)"
   ]
  },
  {
   "cell_type": "code",
   "execution_count": 34,
   "metadata": {},
   "outputs": [],
   "source": [
    "fruit['apples'] = 15"
   ]
  },
  {
   "cell_type": "code",
   "execution_count": 36,
   "metadata": {},
   "outputs": [
    {
     "name": "stdout",
     "output_type": "stream",
     "text": [
      "We have 15 apples.\n"
     ]
    }
   ],
   "source": [
    "if 'apples' in fruit:\n",
    "    print('We have', fruit['apples'], 'apples.')"
   ]
  },
  {
   "cell_type": "markdown",
   "metadata": {},
   "source": [
    "## Classes"
   ]
  },
  {
   "cell_type": "code",
   "execution_count": 51,
   "metadata": {},
   "outputs": [],
   "source": [
    "class Apple():\n",
    "    \n",
    "    color = 'red'\n",
    "    diameter = 4\n",
    "    price = '0.0'\n",
    "    \n",
    "    def __init__(self):\n",
    "        self.price = '1.99'\n",
    "\n",
    "    def eat(self):\n",
    "        self.diameter-=1\n",
    "        if (self.diameter <=0):\n",
    "            self.diameter = 0"
   ]
  },
  {
   "cell_type": "code",
   "execution_count": 52,
   "metadata": {},
   "outputs": [
    {
     "name": "stdout",
     "output_type": "stream",
     "text": [
      "red\n",
      "1.99\n",
      "4\n",
      "3\n"
     ]
    }
   ],
   "source": [
    "a = Apple()\n",
    "print(a.color)\n",
    "print(a.price)\n",
    "print(a.diameter)\n",
    "a.eat()\n",
    "print(a.diameter)"
   ]
  },
  {
   "cell_type": "code",
   "execution_count": 60,
   "metadata": {},
   "outputs": [],
   "source": [
    "class FujiApple(Apple):\n",
    "    \n",
    "    def __init__(self):\n",
    "        self.price = 2.99"
   ]
  },
  {
   "cell_type": "code",
   "execution_count": 61,
   "metadata": {},
   "outputs": [
    {
     "name": "stdout",
     "output_type": "stream",
     "text": [
      "red\n",
      "2.99\n",
      "4\n",
      "3\n"
     ]
    }
   ],
   "source": [
    "b = FujiApple()\n",
    "print(b.color)\n",
    "print(b.price)\n",
    "print(b.diameter)\n",
    "b.eat()\n",
    "print(b.diameter)"
   ]
  },
  {
   "cell_type": "markdown",
   "metadata": {},
   "source": [
    "## Numpy"
   ]
  },
  {
   "cell_type": "code",
   "execution_count": 15,
   "metadata": {},
   "outputs": [],
   "source": [
    "import numpy as np\n",
    "a = np.zeros([3, 3, 3], dtype=np.float64)"
   ]
  },
  {
   "cell_type": "code",
   "execution_count": 19,
   "metadata": {},
   "outputs": [
    {
     "name": "stdout",
     "output_type": "stream",
     "text": [
      "[[[0. 0. 0.]\n",
      "  [0. 0. 0.]\n",
      "  [0. 0. 0.]]\n",
      "\n",
      " [[0. 0. 0.]\n",
      "  [0. 0. 0.]\n",
      "  [0. 0. 0.]]\n",
      "\n",
      " [[0. 0. 0.]\n",
      "  [0. 0. 0.]\n",
      "  [0. 0. 0.]]]\n",
      "(3, 3, 3)\n",
      "float64\n"
     ]
    }
   ],
   "source": [
    "print(a)\n",
    "print(a.shape)\n",
    "print(a.dtype)"
   ]
  },
  {
   "cell_type": "code",
   "execution_count": 66,
   "metadata": {},
   "outputs": [
    {
     "name": "stdout",
     "output_type": "stream",
     "text": [
      "0.9743675112286763 3\n",
      "0.9975893201197789 8\n",
      "0.12335598635171419 5\n",
      "0.7138710343533687 7\n",
      "0.10440628724580359 3\n",
      "0.7247270501817518 8\n",
      "0.13099563663758707 5\n",
      "0.3438254639147412 3\n",
      "0.6828805577230918 8\n",
      "0.225069775651504 3\n",
      "[[0.02196935 0.69960667 0.35406696]\n",
      " [0.50469692 0.93158479 0.76756089]\n",
      " [0.20620843 0.49396214 0.91447132]]\n"
     ]
    }
   ],
   "source": [
    "for x in range(10):\n",
    "    print(np.random.random(), np.random.randint(10))\n",
    "    \n",
    "r = np.random.random(size=(3,3))\n",
    "print(r)"
   ]
  },
  {
   "cell_type": "code",
   "execution_count": 26,
   "metadata": {},
   "outputs": [
    {
     "name": "stdout",
     "output_type": "stream",
     "text": [
      "[[0. 0. 0.]\n",
      " [0. 0. 0.]\n",
      " [0. 0. 0.]]\n"
     ]
    }
   ],
   "source": [
    "n=1\n",
    "print(a[:,:,n])"
   ]
  },
  {
   "cell_type": "markdown",
   "metadata": {},
   "source": [
    "## Exercises (20')\n",
    "\n",
    "1. Define a class `vehicle`, a class `car`, and a class `mercedes`. A Mercedes is a car which is a vehicle. Invent some placeholder attributes and methods (`drive()`, `price`, etc.), and build a Mercedes object.\n",
    "2. `np.ones` creates NumPy arrays full of ones. Define a three-dimensional array (4x4x4) full of ones and set the value in the first row, second column, third z-plane to 0. Print the array to check if your implementation is correct."
   ]
  }
 ],
 "metadata": {
  "kernelspec": {
   "display_name": "Python 3",
   "language": "python",
   "name": "python3"
  },
  "language_info": {
   "codemirror_mode": {
    "name": "ipython",
    "version": 3
   },
   "file_extension": ".py",
   "mimetype": "text/x-python",
   "name": "python",
   "nbconvert_exporter": "python",
   "pygments_lexer": "ipython3",
   "version": "3.7.2"
  }
 },
 "nbformat": 4,
 "nbformat_minor": 2
}
