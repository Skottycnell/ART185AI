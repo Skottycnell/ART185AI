{
 "cells": [
  {
   "cell_type": "markdown",
   "metadata": {},
   "source": [
    "# Python for Machine Learning 4: A Working MNIST Classifier"
   ]
  },
  {
   "cell_type": "markdown",
   "metadata": {},
   "source": [
    "## Learn more\n",
    "\n",
    "- Understanding softmax and NLL: https://ljvmiranda921.github.io/notebook/2017/08/13/softmax-and-the-negative-log-likelihood/\n",
    "- Visualizing MNIST (Chris Olah): http://colah.github.io/posts/2014-10-Visualizing-MNIST/\n",
    "- Pytorch: https://pytorch.org/\n",
    "- Pytorch samples: https://github.com/pytorch/examples\n",
    "- Convolution arithmetic: https://github.com/vdumoulin/conv_arithmetic"
   ]
  },
  {
   "cell_type": "markdown",
   "metadata": {},
   "source": [
    "## Imports"
   ]
  },
  {
   "cell_type": "code",
   "execution_count": 13,
   "metadata": {},
   "outputs": [],
   "source": [
    "import torch as t\n",
    "import torch.nn as nn\n",
    "import torch.nn.functional as f\n",
    "import torchvision as tv\n",
    "import matplotlib.pyplot as plt # conda install matplotlib\n",
    "import numpy as np\n",
    "from scipy.special import expit as sigmoid # conda install scipy"
   ]
  },
  {
   "cell_type": "markdown",
   "metadata": {},
   "source": [
    "## PyTorch building blocks"
   ]
  },
  {
   "cell_type": "markdown",
   "metadata": {},
   "source": [
    "### nn.Conv2d: Convolutional layer \n",
    "\n",
    "https://pytorch.org/docs/stable/nn.html#conv2d\n",
    "\n",
    "Defines a number of trainable convolution kernels with fixed size and stride.\n",
    "\n",
    "![](img/conv.gif)"
   ]
  },
  {
   "cell_type": "markdown",
   "metadata": {},
   "source": [
    "### f.max_pool2d: Max pooling layer\n",
    "\n",
    "Only keeps the maximum value from a region of values."
   ]
  },
  {
   "cell_type": "markdown",
   "metadata": {},
   "source": [
    "### nn.Linear: Fully connected layer\n",
    "\n",
    "https://pytorch.org/docs/stable/nn.html#linear\n",
    "\n",
    "This is the standard, multilayer perceptron layer, where every unit of a layer is connected to every unit of the layer before and after. "
   ]
  },
  {
   "cell_type": "markdown",
   "metadata": {},
   "source": [
    "### f.relu: ReLu activation function\n",
    "\n",
    "[Rectified linear units](https://en.wikipedia.org/wiki/Rectifier_(neural_networks)) are the most popular neural network units at the time of writing. Despite their \"linear look\", the [activation function](https://en.wikipedia.org/wiki/Activation_function) used: \n",
    "\n",
    "$$f(x)=\\max(0,x)$$\n",
    "\n",
    "is actually nonlinear ([piecewise-linear](https://en.wikipedia.org/wiki/Piecewise_linear_function), to be precise) *and* differentiable. Why nonlinear? Well, a linear function has to satisfy the condition \n",
    "\n",
    "$$\\forall_{x,y}: f(x) + f(y) = f(x+y)$$\n",
    "\n",
    "For ReLu, \n",
    "\n",
    "$$f(-1) = -1$$\n",
    "$$f(1) = 1$$\n",
    "$$f(0) = 0$$ \n",
    "\n",
    "Its derivative is then simply \n",
    "\n",
    "$$f'(x)={\\begin{cases}0&{\\text{for }}x<0\\\\1&{\\text{for }}x\\geq 0\\end{cases}}$$\n",
    "\n",
    "Interestingly, the \"almost-linearity\" of ReLus does not impede their universality in approximating functions (see [these examples](https://www.quora.com/Is-a-single-layered-ReLu-network-still-a-universal-approximator/answer/Conner-Davis-2))."
   ]
  },
  {
   "cell_type": "code",
   "execution_count": 29,
   "metadata": {},
   "outputs": [
    {
     "data": {
      "image/png": "[encoded data removed]",
      "text/plain": [
       "<Figure size 432x288 with 1 Axes>"
      ]
     },
     "metadata": {
      "needs_background": "light"
     },
     "output_type": "display_data"
    }
   ],
   "source": [
    "plt.plot([max(0, x) for x in np.arange(-10.0,10.0,0.01)])\n",
    "plt.show()"
   ]
  },
  {
   "cell_type": "markdown",
   "metadata": {},
   "source": [
    "### f.log_softmax + f.nll_loss: Logarithm of sigmoid loss function, or Negative Log Likelihood (NLL)\n",
    "\n",
    "https://pytorch.org/docs/stable/nn.html#log-softmax\n",
    "https://pytorch.org/docs/stable/nn.html#torch.nn.NLLLoss\n",
    "\n",
    "The [sigmoid function](https://en.wikipedia.org/wiki/Logistic_function), also called logistic function, looks roughly like the simple step function but has non-zero gradients everywhere, which makes it fully differentiable. It is defined as\n",
    "\n",
    "$$f(x)={\\frac {1}{1+e^{-x}}}$$\n",
    "\n",
    "with the derivative\n",
    "\n",
    "$$f'(x)=f(x)(1-f(x))$$"
   ]
  },
  {
   "cell_type": "code",
   "execution_count": 32,
   "metadata": {},
   "outputs": [
    {
     "data": {
      "image/png": "[encoded data removed]",
      "text/plain": [
       "<Figure size 432x288 with 1 Axes>"
      ]
     },
     "metadata": {
      "needs_background": "light"
     },
     "output_type": "display_data"
    }
   ],
   "source": [
    "plt.plot([sigmoid(x) for x in np.arange(-10.0,10.0,0.01)])\n",
    "plt.show()"
   ]
  },
  {
   "cell_type": "code",
   "execution_count": 33,
   "metadata": {},
   "outputs": [
    {
     "name": "stderr",
     "output_type": "stream",
     "text": [
      "/Users/fabian/miniconda3/envs/py37-art185ai/lib/python3.7/site-packages/ipykernel_launcher.py:1: RuntimeWarning: divide by zero encountered in log\n",
      "  \"\"\"Entry point for launching an IPython kernel.\n"
     ]
    },
    {
     "data": {
      "image/png": "[encoded data removed]",
      "text/plain": [
       "<Figure size 432x288 with 1 Axes>"
      ]
     },
     "metadata": {
      "needs_background": "light"
     },
     "output_type": "display_data"
    }
   ],
   "source": [
    "plt.plot([-np.log(x) for x in np.arange(0.0,1.0,0.01)])\n",
    "plt.show()"
   ]
  },
  {
   "cell_type": "markdown",
   "metadata": {},
   "source": [
    "### f.nll_loss.backward(): Backpropagation via stochastic gradient descent\n",
    "\n",
    "First, a quick derivative reminder:\n",
    "\n",
    "$$\\frac{df}{dx} = \\lim_{x \\to +\\infty} \\frac{f(x+h)-f(x)}{h}$$\n",
    "\n",
    "[Gradient descent](https://en.wikipedia.org/wiki/Gradient_descent) is based on the observation that if the multi-variable function $f(x)$ is defined and differentiable in a neighborhood of a point $a$, then $f(x)$ decreases fastest if one goes from $a$ in the direction of the negative gradient of $f$ at $a$, $f(a) -\\nabla f(a)$. The algorithm for a system with the loss function $Loss$ would then be\n",
    "\n",
    "$$w_n \\leftarrow w_n - \\underbrace{\\eta}_\\text{step size} \\nabla_{w_{n}} Loss(w_n)$$\n",
    "\n",
    "for every training sample, where $\\nabla_{w_{n}}$ ([Del](https://en.wikipedia.org/wiki/Del)) denotes the partial derivative w. r. t. the weight $w_n$, which can usually be derived by means of the [chain rule](https://en.wikipedia.org/wiki/Chain_rule): \n",
    "\n",
    "$$(f\\circ g)'=(f'\\circ g)\\cdot g'$$\n",
    "\n",
    "[Stochastic gradient descent](https://en.wikipedia.org/wiki/Stochastic_gradient_descent) adds an additional element to the process to increase throughput: batch size. Instead of supplying one training sample per iteration (where iteration defines one forward and backward pass), multiple (random) samples are concatenated and the network is trained on these concatenated \"mini-batches\". Essentially, we are trading dimensionality for speed which is intuitively a good choice if we use GPUs for training.\n",
    "\n",
    "Example: $f(x)=x^4−3x^3+2$, with derivative $f'(x)=4x3−9x^2$"
   ]
  },
  {
   "cell_type": "code",
   "execution_count": 39,
   "metadata": {},
   "outputs": [
    {
     "name": "stdout",
     "output_type": "stream",
     "text": [
      "The local minimum occurs at 2.2499646074278457\n"
     ]
    }
   ],
   "source": [
    "# From calculation, it is expected that the local minimum occurs at x=9/4\n",
    "\n",
    "x = 6 # The algorithm starts at x=6\n",
    "eta = 0.01 # Step size multiplier\n",
    "precision = 0.00001\n",
    "previous_step_size = 1/precision # Some large value\n",
    "\n",
    "df = lambda x: 4 * x**3 - 9 * x**2\n",
    "\n",
    "while previous_step_size > precision:\n",
    "    prev_x = x\n",
    "    x += -eta * df(prev_x)\n",
    "    previous_step_size = abs(x - prev_x)\n",
    "\n",
    "print(\"The local minimum occurs at \" + str(x))"
   ]
  },
  {
   "cell_type": "markdown",
   "metadata": {},
   "source": [
    "## Building the model"
   ]
  },
  {
   "cell_type": "code",
   "execution_count": null,
   "metadata": {},
   "outputs": [],
   "source": [
    "class Net(nn.Module):\n",
    "    def __init__(self):\n",
    "        super(Net, self).__init__()\n",
    "        self.conv1 = nn.Conv2d(1, 20, 5, 1) # in, out, size, stride \n",
    "        self.conv2 = nn.Conv2d(20, 50, 5, 1) # in, out, size, stride \n",
    "        self.fc1 = nn.Linear(4*4*50, 500) # in, out\n",
    "        self.fc2 = nn.Linear(500, 10) # in, out\n",
    "\n",
    "    def forward(self, x):\n",
    "        # [64, 1, 28, 28]\n",
    "        x = f.relu(self.conv1(x)) # [64, 20, 24, 24]\n",
    "        x = f.max_pool2d(x, 2, 2) # [64, 20, 12, 12]\n",
    "        x = f.relu(self.conv2(x)) # [64, 50, 8, 8]\n",
    "        x = f.max_pool2d(x, 2, 2) # [64, 50, 4, 4]\n",
    "        x = x.view(-1, 4*4*50) # [64, 800]\n",
    "        x = f.relu(self.fc1(x)) # [64, 500]\n",
    "        x = self.fc2(x) # [64, 10]\n",
    "        x = f.log_softmax(x, dim=1) # [64, 10]\n",
    "        return x"
   ]
  },
  {
   "cell_type": "markdown",
   "metadata": {},
   "source": [
    "## Training and testing"
   ]
  },
  {
   "cell_type": "code",
   "execution_count": null,
   "metadata": {},
   "outputs": [],
   "source": [
    "def train(model, device, train_loader, optimizer, epoch):\n",
    "    model.train()\n",
    "    for batch_idx, (data, target) in enumerate(train_loader):\n",
    "        data, target = data.to(device), target.to(device)\n",
    "        optimizer.zero_grad()\n",
    "        output = model(data)\n",
    "        loss = f.nll_loss(output, target)\n",
    "        loss.backward()\n",
    "        optimizer.step()\n",
    "        # item(): https://pytorch.org/docs/stable/tensors.html#torch.Tensor.item\n",
    "        if batch_idx % 10 == 0:\n",
    "            print('Train Epoch: {} [{}/{} ({:.0f}%)]\\tLoss: {:.6f}'.format(\n",
    "                epoch, batch_idx * len(data), len(train_loader.dataset),\n",
    "                100. * batch_idx / len(train_loader), loss.item()))"
   ]
  },
  {
   "cell_type": "code",
   "execution_count": null,
   "metadata": {},
   "outputs": [],
   "source": [
    "def test(model, device, test_loader):\n",
    "    model.eval()\n",
    "    test_loss = 0\n",
    "    correct = 0\n",
    "    with t.no_grad():\n",
    "        for data, target in test_loader:\n",
    "            data, target = data.to(device), target.to(device)\n",
    "            output = model(data)\n",
    "            test_loss += f.nll_loss(output, target, reduction='sum').item() # Sum up batch loss\n",
    "            pred = output.argmax(dim=1, keepdim=True) # Get the index of the max log-probability\n",
    "            # eq(): https://pytorch.org/docs/stable/torch.html#torch.eq\n",
    "            correct += pred.eq(target.view_as(pred)).sum().item()\n",
    "\n",
    "    test_loss /= len(test_loader.dataset)\n",
    "\n",
    "    print('\\nTest set: Average loss: {:.4f}, Accuracy: {}/{} ({:.0f}%)\\n'.format(\n",
    "        test_loss, correct, len(test_loader.dataset),\n",
    "        100. * correct / len(test_loader.dataset)))"
   ]
  },
  {
   "cell_type": "markdown",
   "metadata": {},
   "source": [
    "## Run everything"
   ]
  },
  {
   "cell_type": "code",
   "execution_count": null,
   "metadata": {},
   "outputs": [],
   "source": [
    "device = t.device(\"cuda\" if t.cuda.is_available() else \"cpu\")\n",
    "\n",
    "transform = tv.transforms.Compose([tv.transforms.ToTensor(), tv.transforms.Normalize((0.1307,), (0.3081,))])\n",
    "\n",
    "train_set = tv.datasets.MNIST('.', train=True, transform = transform)\n",
    "test_set = tv.datasets.MNIST('.', train=False, transform = transform)\n",
    "train_loader = t.utils.data.DataLoader(train_set, batch_size=64, shuffle=True)\n",
    "test_loader = t.utils.data.DataLoader(test_set, batch_size=1000, shuffle=True)\n",
    "\n",
    "model = Net().to(device)\n",
    "optimizer = t.optim.SGD(model.parameters(), lr=0.01)\n",
    "\n",
    "for epoch in range(1, 10 + 1):\n",
    "    train(model, device, train_loader, optimizer, epoch)\n",
    "    test(model, device, test_loader)"
   ]
  }
 ],
 "metadata": {
  "kernelspec": {
   "display_name": "Python 3",
   "language": "python",
   "name": "python3"
  },
  "language_info": {
   "codemirror_mode": {
    "name": "ipython",
    "version": 3
   },
   "file_extension": ".py",
   "mimetype": "text/x-python",
   "name": "python",
   "nbconvert_exporter": "python",
   "pygments_lexer": "ipython3",
   "version": "3.7.2"
  }
 },
 "nbformat": 4,
 "nbformat_minor": 2
}
